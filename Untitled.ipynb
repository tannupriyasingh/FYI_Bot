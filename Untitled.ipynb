{
 "cells": [
  {
   "cell_type": "code",
   "execution_count": null,
   "metadata": {},
   "outputs": [],
   "source": [
    "import re\n",
    "\n",
    "print(\"Enter string to index\")\n",
    "\n",
    "input_string = input()\n",
    "\n",
    "# Initialize the end result with the first letter of the input string\n",
    "soundex_result = input_string[0].upper()\n",
    "\n",
    "# Remove all instances of h's and w's, since letters with like values\n",
    "# are all treated similar when they are adjacent or separated only by\n",
    "# h's and w's. This will make our later regex operations simpler.\n",
    "input_string = re.sub('[hw]', '', input_string, flags=re.I)\n",
    "\n",
    "# Replace all valued consonants with their respective values. Adjacent\n",
    "# valued consonants are treated as one consonant.\n",
    "input_string = re.sub('[bfpv]+', '1', input_string, flags=re.I)\n",
    "input_string = re.sub('[cgjkqsxz]+', '2', input_string, flags=re.I)\n",
    "input_string = re.sub('[dt]+', '3', input_string, flags=re.I)\n",
    "input_string = re.sub('l+', '4', input_string, flags=re.I)\n",
    "input_string = re.sub('[mn]+', '5', input_string, flags=re.I)\n",
    "input_string = re.sub('r+', '6', input_string, flags=re.I)\n",
    "\n",
    "# This transformed string still contains the first letter, so remove\n",
    "# its value from the string.\n",
    "input_string = input_string[1:]\n",
    "\n",
    "# Now remove all vowels and y's from the string.\n",
    "input_string = re.sub('[aeiouy]','', input_string, flags=re.I)\n",
    "\n",
    "# Take the first 3 digits of the transformed string and append them to the result\n",
    "soundex_result += input_string[0:3]\n",
    "\n",
    "# Soundex results are supposed to have an opening letter followed by three digits.\n",
    "# If there are less than 4 characters total, append with zeros until there are 4.\n",
    "if len(soundex_result) < 4:\n",
    "    soundex_result += '0'*(4-len(soundex_result))\n",
    "\n",
    "print(soundex_result)\n",
    "\n",
    "print(\"Press any key to exit\")\n",
    "input()"
   ]
  },
  {
   "cell_type": "code",
   "execution_count": null,
   "metadata": {},
   "outputs": [],
   "source": []
  }
 ],
 "metadata": {
  "kernelspec": {
   "display_name": "Python 3",
   "language": "python",
   "name": "python3"
  },
  "language_info": {
   "codemirror_mode": {
    "name": "ipython",
    "version": 3
   },
   "file_extension": ".py",
   "mimetype": "text/x-python",
   "name": "python",
   "nbconvert_exporter": "python",
   "pygments_lexer": "ipython3",
   "version": "3.7.3"
  }
 },
 "nbformat": 4,
 "nbformat_minor": 2
}
